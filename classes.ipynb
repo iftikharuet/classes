{
  "nbformat": 4,
  "nbformat_minor": 0,
  "metadata": {
    "colab": {
      "name": "classes.ipynb",
      "provenance": []
    },
    "kernelspec": {
      "name": "python3",
      "display_name": "Python 3"
    },
    "accelerator": "GPU"
  },
  "cells": [
    {
      "cell_type": "code",
      "metadata": {
        "id": "SneW_H5PBaBC"
      },
      "source": [
        "string1 = \"str example\""
      ],
      "execution_count": 4,
      "outputs": []
    },
    {
      "cell_type": "code",
      "metadata": {
        "colab": {
          "base_uri": "https://localhost:8080/",
          "height": 35
        },
        "id": "NPx-iVQvBal-",
        "outputId": "c063f40f-08b8-49ef-fe1f-ac39c6b37374"
      },
      "source": [
        "string1"
      ],
      "execution_count": 5,
      "outputs": [
        {
          "output_type": "execute_result",
          "data": {
            "application/vnd.google.colaboratory.intrinsic+json": {
              "type": "string"
            },
            "text/plain": [
              "'str example'"
            ]
          },
          "metadata": {
            "tags": []
          },
          "execution_count": 5
        }
      ]
    },
    {
      "cell_type": "code",
      "metadata": {
        "colab": {
          "base_uri": "https://localhost:8080/"
        },
        "id": "gJSjZJQnBlTw",
        "outputId": "f7afafe2-d5ec-4880-946c-3a9ef4db0720"
      },
      "source": [
        "type(string1)"
      ],
      "execution_count": 6,
      "outputs": [
        {
          "output_type": "execute_result",
          "data": {
            "text/plain": [
              "str"
            ]
          },
          "metadata": {
            "tags": []
          },
          "execution_count": 6
        }
      ]
    },
    {
      "cell_type": "code",
      "metadata": {
        "colab": {
          "base_uri": "https://localhost:8080/"
        },
        "id": "bMrd0VHsBnpd",
        "outputId": "f2708fe8-e0eb-4c3a-b370-471776636ba3"
      },
      "source": [
        "\r\n",
        "type(23)"
      ],
      "execution_count": 7,
      "outputs": [
        {
          "output_type": "execute_result",
          "data": {
            "text/plain": [
              "int"
            ]
          },
          "metadata": {
            "tags": []
          },
          "execution_count": 7
        }
      ]
    },
    {
      "cell_type": "code",
      "metadata": {
        "id": "wZumDnM4Bp6A"
      },
      "source": [
        "lst = [3,4,5, 'a','c']"
      ],
      "execution_count": 8,
      "outputs": []
    },
    {
      "cell_type": "code",
      "metadata": {
        "colab": {
          "base_uri": "https://localhost:8080/"
        },
        "id": "qLrMdND_Bse1",
        "outputId": "d607f288-d93b-4d04-bb33-2544d9ebb0f8"
      },
      "source": [
        "lst"
      ],
      "execution_count": 10,
      "outputs": [
        {
          "output_type": "execute_result",
          "data": {
            "text/plain": [
              "[3, 4, 5, 'a', 'c']"
            ]
          },
          "metadata": {
            "tags": []
          },
          "execution_count": 10
        }
      ]
    },
    {
      "cell_type": "code",
      "metadata": {
        "colab": {
          "base_uri": "https://localhost:8080/"
        },
        "id": "RmNYbswRBuek",
        "outputId": "702a58c1-e3d8-4c4c-9a04-98f8d8150766"
      },
      "source": [
        "\r\n",
        "type(lst)"
      ],
      "execution_count": 11,
      "outputs": [
        {
          "output_type": "execute_result",
          "data": {
            "text/plain": [
              "list"
            ]
          },
          "metadata": {
            "tags": []
          },
          "execution_count": 11
        }
      ]
    },
    {
      "cell_type": "code",
      "metadata": {
        "id": "r-wRskFAB-2q"
      },
      "source": [
        "class Person:\r\n",
        "    \r\n",
        "    def __init__(self, name, lastname, telephone):\r\n",
        "        self.name = name\r\n",
        "        self.lastname = lastname\r\n",
        "        self.telephone = telephone\r\n",
        "        \r\n",
        "x = Person(\"John\", \"Smith\", \"345 656 8849\")"
      ],
      "execution_count": 13,
      "outputs": []
    },
    {
      "cell_type": "code",
      "metadata": {
        "colab": {
          "base_uri": "https://localhost:8080/"
        },
        "id": "b47cvLl7B_YX",
        "outputId": "50e76126-daae-4e8e-e40b-86cbf3fcb0cd"
      },
      "source": [
        "x"
      ],
      "execution_count": 14,
      "outputs": [
        {
          "output_type": "execute_result",
          "data": {
            "text/plain": [
              "<__main__.Person at 0x7fa8cb5df748>"
            ]
          },
          "metadata": {
            "tags": []
          },
          "execution_count": 14
        }
      ]
    },
    {
      "cell_type": "code",
      "metadata": {
        "colab": {
          "base_uri": "https://localhost:8080/"
        },
        "id": "g7x0qMGFCC7w",
        "outputId": "3959feb2-5b26-4edb-c697-8962d5a88588"
      },
      "source": [
        "type(x)"
      ],
      "execution_count": 15,
      "outputs": [
        {
          "output_type": "execute_result",
          "data": {
            "text/plain": [
              "__main__.Person"
            ]
          },
          "metadata": {
            "tags": []
          },
          "execution_count": 15
        }
      ]
    },
    {
      "cell_type": "code",
      "metadata": {
        "colab": {
          "base_uri": "https://localhost:8080/",
          "height": 35
        },
        "id": "NTz9Hd4SCFz_",
        "outputId": "3568304a-f848-411b-8326-2d20ba8dac3c"
      },
      "source": [
        "\r\n",
        "x.telephone"
      ],
      "execution_count": 16,
      "outputs": [
        {
          "output_type": "execute_result",
          "data": {
            "application/vnd.google.colaboratory.intrinsic+json": {
              "type": "string"
            },
            "text/plain": [
              "'345 656 8849'"
            ]
          },
          "metadata": {
            "tags": []
          },
          "execution_count": 16
        }
      ]
    },
    {
      "cell_type": "code",
      "metadata": {
        "id": "8gnWpaj4CPDB"
      },
      "source": [
        "class Person:\r\n",
        "    \r\n",
        "    def __init__(self, name, lastname, telephone = \"445 342 1245\"):\r\n",
        "        self.name = name\r\n",
        "        self.lastname = lastname\r\n",
        "        self.telephone = telephone\r\n",
        "        \r\n",
        "y = Person(\"Jane\", \"Smith\", \"345 569 9803\")"
      ],
      "execution_count": 17,
      "outputs": []
    },
    {
      "cell_type": "code",
      "metadata": {
        "colab": {
          "base_uri": "https://localhost:8080/"
        },
        "id": "dFiwyl3qCSlb",
        "outputId": "10d00658-c8f7-4587-a5d0-e6c2320f91bd"
      },
      "source": [
        "y"
      ],
      "execution_count": 18,
      "outputs": [
        {
          "output_type": "execute_result",
          "data": {
            "text/plain": [
              "<__main__.Person at 0x7fa8cb5a5940>"
            ]
          },
          "metadata": {
            "tags": []
          },
          "execution_count": 18
        }
      ]
    },
    {
      "cell_type": "code",
      "metadata": {
        "colab": {
          "base_uri": "https://localhost:8080/",
          "height": 35
        },
        "id": "9ReNuaRXCUeQ",
        "outputId": "07bcbf17-660c-4638-892a-e2819cfdaa96"
      },
      "source": [
        "y.name"
      ],
      "execution_count": 19,
      "outputs": [
        {
          "output_type": "execute_result",
          "data": {
            "application/vnd.google.colaboratory.intrinsic+json": {
              "type": "string"
            },
            "text/plain": [
              "'Jane'"
            ]
          },
          "metadata": {
            "tags": []
          },
          "execution_count": 19
        }
      ]
    },
    {
      "cell_type": "code",
      "metadata": {
        "colab": {
          "base_uri": "https://localhost:8080/",
          "height": 35
        },
        "id": "a8LL_cK9CcbT",
        "outputId": "2322f8f8-5a1b-4213-c809-2fdc710aa8b1"
      },
      "source": [
        "y.lastname"
      ],
      "execution_count": 20,
      "outputs": [
        {
          "output_type": "execute_result",
          "data": {
            "application/vnd.google.colaboratory.intrinsic+json": {
              "type": "string"
            },
            "text/plain": [
              "'Smith'"
            ]
          },
          "metadata": {
            "tags": []
          },
          "execution_count": 20
        }
      ]
    },
    {
      "cell_type": "code",
      "metadata": {
        "id": "z8GQAu4DCe8e"
      },
      "source": [
        "class Person:\r\n",
        "    \r\n",
        "    def __init__(self, name, lastname, telephone = \"445 342 1245\"):\r\n",
        "        self.name = name\r\n",
        "        self.lastname = lastname\r\n",
        "        self.telephone = telephone\r\n",
        "        \r\n",
        "a = Person(\"Cory\", \"Paul\")"
      ],
      "execution_count": 21,
      "outputs": []
    },
    {
      "cell_type": "code",
      "metadata": {
        "colab": {
          "base_uri": "https://localhost:8080/",
          "height": 35
        },
        "id": "7spgLw8ZChp7",
        "outputId": "2a3baa56-7699-489b-f7ce-5e6f2f211306"
      },
      "source": [
        "a.name\r\n"
      ],
      "execution_count": 22,
      "outputs": [
        {
          "output_type": "execute_result",
          "data": {
            "application/vnd.google.colaboratory.intrinsic+json": {
              "type": "string"
            },
            "text/plain": [
              "'Cory'"
            ]
          },
          "metadata": {
            "tags": []
          },
          "execution_count": 22
        }
      ]
    },
    {
      "cell_type": "code",
      "metadata": {
        "colab": {
          "base_uri": "https://localhost:8080/",
          "height": 35
        },
        "id": "kiDf24RcCmEP",
        "outputId": "01087f6d-961a-4a42-9d20-8bf4598fcdd5"
      },
      "source": [
        "a.telephone"
      ],
      "execution_count": 23,
      "outputs": [
        {
          "output_type": "execute_result",
          "data": {
            "application/vnd.google.colaboratory.intrinsic+json": {
              "type": "string"
            },
            "text/plain": [
              "'445 342 1245'"
            ]
          },
          "metadata": {
            "tags": []
          },
          "execution_count": 23
        }
      ]
    },
    {
      "cell_type": "code",
      "metadata": {
        "id": "acHRh-GSCpHq"
      },
      "source": [
        "a.name = \"John\""
      ],
      "execution_count": 24,
      "outputs": []
    },
    {
      "cell_type": "code",
      "metadata": {
        "colab": {
          "base_uri": "https://localhost:8080/",
          "height": 35
        },
        "id": "sEteLWhpCrkw",
        "outputId": "6ac14f0b-822d-4264-cc18-ca7a71f33101"
      },
      "source": [
        "a.name"
      ],
      "execution_count": 25,
      "outputs": [
        {
          "output_type": "execute_result",
          "data": {
            "application/vnd.google.colaboratory.intrinsic+json": {
              "type": "string"
            },
            "text/plain": [
              "'John'"
            ]
          },
          "metadata": {
            "tags": []
          },
          "execution_count": 25
        }
      ]
    },
    {
      "cell_type": "code",
      "metadata": {
        "id": "1bEuGN2zCvCy"
      },
      "source": [
        "class Person:\r\n",
        "    \r\n",
        "    def __init__(self, lastname, name = \"Harry\", telephone = \"445 342 1245\"):\r\n",
        "        self.name = name\r\n",
        "        self.lastname = lastname\r\n",
        "        self.telephone = telephone\r\n",
        "        \r\n",
        "a = Person(\"Cory\")\r\n",
        "b = Person(\"Paul\", \"Tim\", \"435 533 4456\")"
      ],
      "execution_count": 26,
      "outputs": []
    },
    {
      "cell_type": "code",
      "metadata": {
        "colab": {
          "base_uri": "https://localhost:8080/"
        },
        "id": "PwWyIB3XCzFr",
        "outputId": "468774ed-6473-4943-bffe-7711daf16505"
      },
      "source": [
        "a"
      ],
      "execution_count": 27,
      "outputs": [
        {
          "output_type": "execute_result",
          "data": {
            "text/plain": [
              "<__main__.Person at 0x7fa8cb5a8400>"
            ]
          },
          "metadata": {
            "tags": []
          },
          "execution_count": 27
        }
      ]
    },
    {
      "cell_type": "code",
      "metadata": {
        "id": "RDq1q1JWC05d"
      },
      "source": [
        ""
      ],
      "execution_count": null,
      "outputs": []
    }
  ]
}